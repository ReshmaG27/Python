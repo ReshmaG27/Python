{
 "cells": [
  {
   "cell_type": "markdown",
   "id": "eda93f99",
   "metadata": {},
   "source": [
    "# REVERSE A STRING"
   ]
  },
  {
   "cell_type": "code",
   "execution_count": null,
   "id": "d584aad2",
   "metadata": {},
   "outputs": [],
   "source": [
    "def reverse_string(s):\n",
    "    return s[::-1]\n",
    "\n",
    "print(reverse_string(\"hello\"))"
   ]
  },
  {
   "cell_type": "code",
   "execution_count": null,
   "id": "9b9c94d7",
   "metadata": {},
   "outputs": [],
   "source": [
    "a = [\"h\",\"e\",\"l\",\"l\",\"o\"]\n",
    "start, end = 0, len(a)-1\n",
    "while start < end:\n",
    "    a[start], a[end] = a[end], a[start]\n",
    "    start += 1\n",
    "    end -= 1\n",
    "print(a)"
   ]
  },
  {
   "cell_type": "code",
   "execution_count": null,
   "id": "4367636e",
   "metadata": {},
   "outputs": [],
   "source": [
    "#reverse a entire string\n",
    "s = \"hello123\"\n",
    "rev = \"\"\n",
    "for ch in s:\n",
    "    rev = ch + rev\n",
    "print(rev)"
   ]
  },
  {
   "cell_type": "markdown",
   "id": "5241283d",
   "metadata": {},
   "source": [
    "# REVERSE A NUMBER"
   ]
  },
  {
   "cell_type": "code",
   "execution_count": null,
   "id": "8df7a2e4",
   "metadata": {},
   "outputs": [],
   "source": [
    "n=453\n",
    "num1=0\n",
    "while n>0:\n",
    "    r=n%10\n",
    "    num1=num1*10+r\n",
    "    n=n//10\n",
    "print(num1)"
   ]
  },
  {
   "cell_type": "markdown",
   "id": "025c7cb0",
   "metadata": {},
   "source": [
    "# ODD OR EVEN"
   ]
  },
  {
   "cell_type": "code",
   "execution_count": null,
   "id": "b4c29a94",
   "metadata": {},
   "outputs": [],
   "source": [
    "def odd_even(arr):\n",
    "    odd=[]\n",
    "    even=[]\n",
    "    oddsum=0\n",
    "    evensum=0\n",
    "    for j in range(0,len(arr)):\n",
    "        if arr[j]%2==0:\n",
    "            even.append(arr[j])\n",
    "            evensum+=arr[j]\n",
    "        else:\n",
    "            odd.append(arr[j])\n",
    "            oddsum+=arr[j]\n",
    "    print(odd,oddsum)\n",
    "    print(even,evensum)\n",
    "arr=[1,2,3,4,5,6]\n",
    "odd_even(arr)"
   ]
  },
  {
   "cell_type": "markdown",
   "id": "0d994b90",
   "metadata": {},
   "source": [
    "# USE DEFINED ARRAY"
   ]
  },
  {
   "cell_type": "code",
   "execution_count": null,
   "id": "022f923c",
   "metadata": {},
   "outputs": [],
   "source": [
    "n=int(input(\"Enter the size of the array:\"))\n",
    "arr=[]\n",
    "for i in range(0,n):\n",
    "    no=int(input(\"enter the no to insert in array:\"))\n",
    "    arr.append(no)\n",
    "print(arr)"
   ]
  },
  {
   "cell_type": "markdown",
   "id": "ad495282",
   "metadata": {},
   "source": [
    "# PALINDROME"
   ]
  },
  {
   "cell_type": "code",
   "execution_count": null,
   "id": "f642a26b",
   "metadata": {},
   "outputs": [],
   "source": [
    "def is_palindrome(s):\n",
    "    if( s == s[::-1]):\n",
    "          print(\"it is palindrome\")\n",
    "    else:\n",
    "          print(\"it is not a palindrome\")\n",
    "\n",
    "is_palindrome(\"racecar\")"
   ]
  },
  {
   "cell_type": "code",
   "execution_count": null,
   "id": "9a14b03e",
   "metadata": {},
   "outputs": [],
   "source": [
    "def is_palindrome(s):\n",
    "    s = s.lower()\n",
    "    s = list(s)\n",
    "    l,r = 0,len(s)-1\n",
    "    while l<r:\n",
    "      s[l],s[r] = s[r],s[l]\n",
    "      l+=1\n",
    "      r-=1\n",
    "    return ''.join(s)\n",
    "\n",
    "rev = is_palindrome(\"mom\")\n",
    "if rev == \"mom\":\n",
    "  print(\"it is palindrome\")\n",
    "else:\n",
    "  print(\"it is not a palindrome\")"
   ]
  },
  {
   "cell_type": "markdown",
   "id": "974bec44",
   "metadata": {},
   "source": [
    "# PRIME NUMBER"
   ]
  },
  {
   "cell_type": "code",
   "execution_count": null,
   "id": "ba72e488",
   "metadata": {},
   "outputs": [],
   "source": [
    "#Prime number check\n",
    "def prime(n):\n",
    "    count=0\n",
    "    for i in range(2,n):\n",
    "        if n%i==0:\n",
    "            count+=1\n",
    "    if count ==0:\n",
    "        print(\"prime\")\n",
    "    else:\n",
    "        print(\"not prime\")\n",
    "\n",
    "n=int(input(\"Enter a no to check prime:\"))\n",
    "prime(n)"
   ]
  },
  {
   "cell_type": "code",
   "execution_count": null,
   "id": "b0dd80c9",
   "metadata": {},
   "outputs": [],
   "source": [
    "def prime(n):\n",
    "  for i in range(2, n):\n",
    "    if n%i == 0:\n",
    "      print(\"not prime\")\n",
    "      break\n",
    "  else:\n",
    "    print(\"prime\")\n",
    "\n",
    "prime(11)"
   ]
  },
  {
   "cell_type": "code",
   "execution_count": null,
   "id": "ed02e153",
   "metadata": {},
   "outputs": [],
   "source": [
    "def prime(m,n):\n",
    "    for i in range(m,n+1):\n",
    "        flag=0\n",
    "        for j in range(2,i):\n",
    "            if(i%j==0):\n",
    "                flag+=1\n",
    "        if(flag==0):\n",
    "            print(i)\n",
    "\n",
    "m=int(input(\"starting no:\"))\n",
    "n=int(input(\"ending no:\"))\n",
    "prime(m,n)"
   ]
  },
  {
   "cell_type": "markdown",
   "id": "a40828eb",
   "metadata": {},
   "source": [
    "# FACTORS"
   ]
  },
  {
   "cell_type": "code",
   "execution_count": null,
   "id": "9a674707",
   "metadata": {},
   "outputs": [],
   "source": [
    "n=int(input(\"Enter the no:\"))\n",
    "for i in range(1,n+1):\n",
    "    if n%i==0:\n",
    "        print(i)"
   ]
  },
  {
   "cell_type": "markdown",
   "id": "e3fc4996",
   "metadata": {},
   "source": [
    "# FIBONACCI SEIRES"
   ]
  },
  {
   "cell_type": "code",
   "execution_count": null,
   "id": "2d4a8a7c",
   "metadata": {},
   "outputs": [],
   "source": [
    "def fib():\n",
    "    n= int(input (\"How many terms the user wants to print? \"))  \n",
    "    n1 = 0  \n",
    "    n2 = 1  \n",
    "    if n <= 0:  \n",
    "        print (\"Please enter a positive integer\")  \n",
    "    elif n==1:  \n",
    "        print(n1) \n",
    "    else:  \n",
    "        for i in range(0,n):\n",
    "            print(n1)  \n",
    "            nth = n1 + n2  \n",
    "            n1 = n2  \n",
    "            n2 = nth \n",
    "fib()"
   ]
  },
  {
   "cell_type": "code",
   "execution_count": null,
   "id": "8a51398d",
   "metadata": {},
   "outputs": [],
   "source": [
    "def fibonacci_series(n):\n",
    "    print(\"\\t\\tFIBONACCI SERIES\")\n",
    "    first = 0\n",
    "    second = 1\n",
    "    if n <= 0:\n",
    "        print(\"Please enter a positive integer.\")\n",
    "        return\n",
    "    print(first, second, end=\" \")\n",
    "    for i in range(2, n):\n",
    "        temp = first + second\n",
    "        first = second\n",
    "        second = temp\n",
    "        print(temp, end=\" \")\n",
    "# Example usage\n",
    "n = int(input(\"Enter the number of terms to print: \"))\n",
    "fibonacci_series(n)"
   ]
  },
  {
   "cell_type": "code",
   "execution_count": null,
   "id": "e932e789",
   "metadata": {},
   "outputs": [],
   "source": [
    "def fib(n):\n",
    "  a,b = 0,1\n",
    "  print(a,b, end=\" \")\n",
    "  for i in range(2,n+1):\n",
    "    a,b=b,a+b\n",
    "    print(a,end=\" \")\n",
    "fib(5)"
   ]
  },
  {
   "cell_type": "code",
   "execution_count": null,
   "id": "9c2eb672",
   "metadata": {},
   "outputs": [],
   "source": [
    "def fibo(n):\n",
    "  if n < 0:\n",
    "    return 0\n",
    "  elif n == 1 or n == 2:\n",
    "    return n\n",
    "  else:\n",
    "    return fibo(n - 1) + fibo(n - 2)\n",
    "\n",
    "print(fibo(5))"
   ]
  },
  {
   "cell_type": "markdown",
   "id": "d7e4f4cb",
   "metadata": {},
   "source": [
    "# sum of fibonacci"
   ]
  },
  {
   "cell_type": "code",
   "execution_count": null,
   "id": "f786ff93",
   "metadata": {},
   "outputs": [],
   "source": [
    "def fib():\n",
    "    n= int(input (\"How many terms the user wants to print? \"))  \n",
    "    n1 = 0  \n",
    "    n2 = 1  \n",
    "    sum=0\n",
    "    if n <= 0:  \n",
    "        print (\"Please enter a positive integer\")  \n",
    "    elif n==1:   \n",
    "        print(sum)\n",
    "    else:  \n",
    "        for i in range(0,n): \n",
    "            sum+=n1\n",
    "            nth = n1 + n2  \n",
    "            n1 = n2  \n",
    "            n2 = nth \n",
    "        print(sum)\n",
    "fib()"
   ]
  },
  {
   "cell_type": "markdown",
   "id": "27409a2d",
   "metadata": {},
   "source": [
    "# FACTORIAL"
   ]
  },
  {
   "cell_type": "code",
   "execution_count": null,
   "id": "2c060561",
   "metadata": {},
   "outputs": [],
   "source": [
    "def factorial(n):\n",
    "    fact = 1\n",
    "    for i in range(1, n+1):\n",
    "        fact = fact * i\n",
    "    print(fact)\n",
    "factorial(5)"
   ]
  },
  {
   "cell_type": "code",
   "execution_count": null,
   "id": "96798efc",
   "metadata": {},
   "outputs": [],
   "source": [
    "def factorial(n):\n",
    "    if n == 0 or n == 1:\n",
    "        return 1\n",
    "    else:\n",
    "        return n * factorial(n - 1)\n",
    "print(factorial(5))  # Output: 120"
   ]
  },
  {
   "cell_type": "markdown",
   "id": "12aad33f",
   "metadata": {},
   "source": [
    "# NCR"
   ]
  },
  {
   "cell_type": "code",
   "execution_count": null,
   "id": "347892f4",
   "metadata": {},
   "outputs": [],
   "source": [
    "def fact(n):\n",
    "  if n<=1:\n",
    "    return 1\n",
    "  else:\n",
    "    return n*fact(n-1)\n",
    "n=4\n",
    "r=2\n",
    "r1 = fact(n)\n",
    "r2 = fact(r)\n",
    "r3 = fact(n-r)\n",
    "ncr = r1/(r2*r3)\n",
    "print(ncr)"
   ]
  },
  {
   "cell_type": "markdown",
   "id": "45f07953",
   "metadata": {},
   "source": [
    "# PERFECT NUMBER"
   ]
  },
  {
   "cell_type": "code",
   "execution_count": null,
   "id": "53e4af61",
   "metadata": {},
   "outputs": [],
   "source": [
    "#A perfect number is a positive integer that is equal to the sum of its positive proper divisors, or divisors excluding the number itself\n",
    "\n",
    "#eg : 6(1,2,3,6) = 1+2+3"
   ]
  },
  {
   "cell_type": "code",
   "execution_count": null,
   "id": "25328fbb",
   "metadata": {},
   "outputs": [],
   "source": [
    "#To check whether the given number is perfect number\n",
    "print(\"\\t\\tPERFECT NUMBER CHECKING\")\n",
    "\n",
    "def perfect(n):\n",
    "  sum = 0\n",
    "  for i in range(1,n):\n",
    "    if n % i == 0:\n",
    "      sum = sum+i\n",
    "  if n == sum:\n",
    "      print(n,\" is a perfect number\")\n",
    "  else:\n",
    "      print(n,\" is not a perfect number\")\n",
    "\n",
    "n = int(input(\"Enter a number: \"))\n",
    "perfect(n)"
   ]
  },
  {
   "cell_type": "markdown",
   "id": "64fcc3c4",
   "metadata": {},
   "source": [
    "# ARMSTRONG NUMBER"
   ]
  },
  {
   "cell_type": "code",
   "execution_count": null,
   "id": "adb13c3b",
   "metadata": {},
   "outputs": [],
   "source": [
    "def is_armstrong_number(n):\n",
    "    s = 0\n",
    "    m = n\n",
    "    length = len(str(n))\n",
    "\n",
    "    while n > 0:\n",
    "        r = n % 10\n",
    "        s += (r ** length)\n",
    "        n = n // 10\n",
    "\n",
    "    return s\n",
    "\n",
    "n = int(input(\"Enter a number: \"))\n",
    "s = is_armstrong_number(n)\n",
    "if n == s:\n",
    "    print(n,\"is an Armstrong number\")\n",
    "else:\n",
    "    print(n,\"is not an Armstrong number\")"
   ]
  },
  {
   "cell_type": "markdown",
   "id": "2f729081",
   "metadata": {},
   "source": [
    "# GCD and LCM"
   ]
  },
  {
   "cell_type": "code",
   "execution_count": null,
   "id": "901e54cc",
   "metadata": {},
   "outputs": [],
   "source": [
    "def gcd(a, b):\n",
    "    while b:\n",
    "        a, b = b, a % b\n",
    "    return a\n",
    "\n",
    "def lcm(x,y,gc):\n",
    "  lcm = (x * y) // gc\n",
    "  return lcm\n",
    "\n",
    "gc = (gcd(48, 18))  # Output: 6\n",
    "print(gc)\n",
    "print(\"lcm:\", lcm(48,18,gc))"
   ]
  },
  {
   "cell_type": "markdown",
   "id": "4a10eb63",
   "metadata": {},
   "source": [
    "# BINARY SEARCH"
   ]
  },
  {
   "cell_type": "code",
   "execution_count": null,
   "id": "acdc5e16",
   "metadata": {},
   "outputs": [],
   "source": [
    "def binary_search(arr, target):\n",
    "    low = 0\n",
    "    high = len(arr) - 1\n",
    "    while low <= high:\n",
    "        mid = (low + high) // 2\n",
    "        if arr[mid] == target:\n",
    "            return mid\n",
    "        elif arr[mid] < target:\n",
    "            low = mid + 1\n",
    "        else:\n",
    "            high = mid - 1\n",
    "    return -1\n",
    "\n",
    "print(binary_search([1, 2, 3, 4, 5,6,7], 5))  # Output: 4"
   ]
  },
  {
   "cell_type": "markdown",
   "id": "54c47819",
   "metadata": {},
   "source": [
    "# BUBBLE SORT(sort)\n",
    "Bubble Sort repeatedly swaps adjacent elements if they are in the wrong order. It continues this process until the array is sorted."
   ]
  },
  {
   "cell_type": "code",
   "execution_count": null,
   "id": "9ff7cc8b",
   "metadata": {},
   "outputs": [],
   "source": [
    "def bubble_sort(arr):\n",
    "    n = len(arr)\n",
    "    for i in range(n):\n",
    "        for j in range(n-i-1):\n",
    "            if arr[j] > arr[j+1]:\n",
    "                arr[j], arr[j+1] = arr[j+1], arr[j]\n",
    "    return arr\n",
    "\n",
    "sorted_arr = bubble_sort([64, 34, 25, 90, 12, 22, 11])  # Output: [11, 12, 22, 25, 34, 64, 90]\n",
    "print(\"Sorted array: \",sorted_arr)\n",
    "# maximum number\n",
    "print(\"Max: \",sorted_arr[-1])\n",
    "# minimum number\n",
    "print(\"Min: \",sorted_arr[0])"
   ]
  },
  {
   "cell_type": "markdown",
   "id": "33178f0f",
   "metadata": {},
   "source": [
    "# SELECTION SORT\n",
    "Selection Sort repeatedly finds the minimum element from the unsorted part and moves it to the sorted part"
   ]
  },
  {
   "cell_type": "code",
   "execution_count": null,
   "id": "0e42955f",
   "metadata": {},
   "outputs": [],
   "source": [
    "def selection_sort(arr):\n",
    "    n = len(arr)\n",
    "    for i in range(n):\n",
    "        min_index = i\n",
    "        for j in range(i + 1, n):\n",
    "            if arr[j] < arr[min_index]:\n",
    "                min_index = j\n",
    "        arr[i], arr[min_index] = arr[min_index], arr[i]\n",
    "    return arr\n",
    "\n",
    "# Example usage\n",
    "print(selection_sort([64, 34, 25, 12, 22, 11, 90]))  # Output: [11, 12, 22, 25, 34, 64, 90]"
   ]
  },
  {
   "cell_type": "markdown",
   "id": "d4871aec",
   "metadata": {},
   "source": [
    "# MERGE SORT\n",
    "Merge Sort is a divide-and-conquer algorithm that divides the array into halves, sorts them, and then merges them back together."
   ]
  },
  {
   "cell_type": "code",
   "execution_count": null,
   "id": "897ce590",
   "metadata": {},
   "outputs": [],
   "source": [
    "def merge_sort(arr):\n",
    "    if len(arr) > 1:\n",
    "        mid = len(arr) // 2\n",
    "        left_half = arr[:mid]\n",
    "        right_half = arr[mid:]\n",
    "\n",
    "        merge_sort(left_half)\n",
    "        merge_sort(right_half)\n",
    "\n",
    "        i = j = k = 0\n",
    "\n",
    "        while i < len(left_half) and j < len(right_half):\n",
    "            if left_half[i] < right_half[j]:\n",
    "                arr[k] = left_half[i]\n",
    "                i += 1\n",
    "            else:\n",
    "                arr[k] = right_half[j]\n",
    "                j += 1\n",
    "            k += 1\n",
    "\n",
    "        while i < len(left_half):\n",
    "            arr[k] = left_half[i]\n",
    "            i += 1\n",
    "            k += 1\n",
    "\n",
    "        while j < len(right_half):\n",
    "            arr[k] = right_half[j]\n",
    "            j += 1\n",
    "            k += 1\n",
    "\n",
    "    return arr\n",
    "\n",
    "# Example usage\n",
    "print(merge_sort([64, 34, 25, 12, 22, 11, 90]))  # Output: [11, 12, 22, 25, 34, 64, 90]"
   ]
  },
  {
   "cell_type": "markdown",
   "id": "c68f91f8",
   "metadata": {},
   "source": [
    "# Remove duplicates"
   ]
  },
  {
   "cell_type": "code",
   "execution_count": null,
   "id": "f85fb062",
   "metadata": {},
   "outputs": [],
   "source": [
    "def remove_duplicates(nums):\n",
    "    if not nums:  # Handle empty array\n",
    "        return 0\n",
    "\n",
    "    # Pointer for the last unique element\n",
    "    i = 0\n",
    "\n",
    "    # Iterate through the array\n",
    "    for j in range(1, len(nums)):\n",
    "        # If a new unique element is found\n",
    "        if nums[j] != nums[i]:\n",
    "            i += 1\n",
    "            nums[i] = nums[j]\n",
    "\n",
    "    # Length of the array with unique elements\n",
    "    return i + 1\n",
    "\n",
    "# Example usage\n",
    "nums = [1, 1, 2, 3, 3, 4]\n",
    "length = remove_duplicates(nums)\n",
    "print(\"Length of unique array:\", length)\n",
    "print(\"Modified array:\", nums[:length])"
   ]
  },
  {
   "cell_type": "markdown",
   "id": "db9a2721",
   "metadata": {},
   "source": [
    "# JUMP"
   ]
  },
  {
   "cell_type": "code",
   "execution_count": null,
   "id": "5496e679",
   "metadata": {},
   "outputs": [],
   "source": [
    "def can_jump(nums):\n",
    "    max_reachable = 0  # Tracks the furthest index reachable\n",
    "\n",
    "    for i, jump in enumerate(nums):\n",
    "        # If the current index is beyond the maximum reachable, return False\n",
    "        if i > max_reachable:\n",
    "            return False\n",
    "        \n",
    "        # Update the maximum reachable index\n",
    "        max_reachable = max(max_reachable, i + jump)\n",
    "        \n",
    "        # If we can reach or exceed the last index, return True\n",
    "        if max_reachable >= len(nums) - 1:\n",
    "            return True\n",
    "\n",
    "    return False\n",
    "\n",
    "# Example usage\n",
    "nums = [2, 3, 1, 1, 4]\n",
    "print(can_jump(nums))  # Output: True\n",
    "\n",
    "nums = [3, 2, 1, 0, 4]\n",
    "print(can_jump(nums))  # Output: False"
   ]
  },
  {
   "cell_type": "markdown",
   "id": "1f2b89c2",
   "metadata": {},
   "source": [
    "# Substring"
   ]
  },
  {
   "cell_type": "code",
   "execution_count": null,
   "id": "dbae3d17",
   "metadata": {},
   "outputs": [],
   "source": [
    "def strStr(haystack, needle):\n",
    "    # If needle is an empty string, return 0\n",
    "    if not needle:\n",
    "        return 0\n",
    "\n",
    "    # Lengths of haystack and needle\n",
    "    n, m = len(haystack), len(needle)\n",
    "\n",
    "    # Loop through the haystack\n",
    "    for i in range(n - m + 1):  # Ensure we don't go out of bounds\n",
    "        # Check if the substring matches needle\n",
    "        if haystack[i:i + m] == needle:\n",
    "            return i  # Return the starting index of the match\n",
    "    \n",
    "    # If no match is found, return -1\n",
    "    return -1\n",
    "\n",
    "# Test cases\n",
    "print(strStr(\"hello\", \"ll\"))  # Output: 2\n",
    "print(strStr(\"aaaaa\", \"bba\")) # Output: -1\n",
    "print(strStr(\"hello\", \"\"))    # Output: 0"
   ]
  },
  {
   "cell_type": "markdown",
   "id": "28b15ad2",
   "metadata": {},
   "source": [
    "# Two Sum"
   ]
  },
  {
   "cell_type": "code",
   "execution_count": null,
   "id": "5e5d11b1",
   "metadata": {},
   "outputs": [],
   "source": [
    "def two_sum(nums, target):\n",
    "    # Dictionary to store the difference and its index\n",
    "    seen = {}\n",
    "    for i, num in enumerate(nums):\n",
    "        diff = target - num\n",
    "        if diff in seen:\n",
    "            return [seen[diff], i]\n",
    "        seen[num] = i\n",
    "    return []\n",
    "\n",
    "# Example Usage\n",
    "nums = [2, 7, 11, 15]\n",
    "target = 9\n",
    "result = two_sum(nums, target)\n",
    "print(\"Indices:\", result)\n"
   ]
  },
  {
   "cell_type": "markdown",
   "id": "feef15e9",
   "metadata": {},
   "source": [
    "# Move Zeroes"
   ]
  },
  {
   "cell_type": "code",
   "execution_count": null,
   "id": "1762459d",
   "metadata": {},
   "outputs": [],
   "source": [
    "def move_zeroes(nums):\n",
    "    index = 0  # Position to place the next non-zero element\n",
    "\n",
    "    # Move all non-zero elements to the front\n",
    "    for i in range(len(nums)):\n",
    "        if nums[i] != 0:\n",
    "            nums[index] = nums[i]\n",
    "            index += 1\n",
    "\n",
    "    # Fill remaining positions with zeroes\n",
    "    for i in range(index, len(nums)):\n",
    "        nums[i] = 0\n",
    "\n",
    "    return nums\n",
    "\n",
    "# Example usage\n",
    "nums = [0, 1, 0, 3, 12]\n",
    "result = move_zeroes(nums)\n",
    "print(\"Result:\", result)  # Output: [1, 3, 12, 0, 0]"
   ]
  },
  {
   "cell_type": "markdown",
   "id": "1964f26a",
   "metadata": {},
   "source": [
    "# Majority element"
   ]
  },
  {
   "cell_type": "code",
   "execution_count": null,
   "id": "ce8b10a1",
   "metadata": {},
   "outputs": [],
   "source": [
    "def majority_element(nums):\n",
    "    candidate = None\n",
    "    count = 0\n",
    "\n",
    "    # Candidate Selection\n",
    "    for num in nums:\n",
    "        if count == 0:\n",
    "            candidate = num\n",
    "        count += (1 if num == candidate else -1)\n",
    "    \n",
    "    return candidate\n",
    "\n",
    "# Example Usage\n",
    "nums = [3, 2, 3]\n",
    "print(\"Majority Element:\", majority_element(nums))\n",
    "\n"
   ]
  }
 ],
 "metadata": {
  "kernelspec": {
   "display_name": "Python 3 (ipykernel)",
   "language": "python",
   "name": "python3"
  },
  "language_info": {
   "codemirror_mode": {
    "name": "ipython",
    "version": 3
   },
   "file_extension": ".py",
   "mimetype": "text/x-python",
   "name": "python",
   "nbconvert_exporter": "python",
   "pygments_lexer": "ipython3",
   "version": "3.11.5"
  }
 },
 "nbformat": 4,
 "nbformat_minor": 5
}
